{
 "cells": [
  {
   "cell_type": "code",
   "id": "initial_id",
   "metadata": {
    "collapsed": true,
    "ExecuteTime": {
     "end_time": "2024-05-01T05:19:02.237526Z",
     "start_time": "2024-05-01T05:19:02.229454Z"
    }
   },
   "source": [
    "# ch06/kyochon_crawler.py : 교촌 영업 매장 크롤링 (정적 웹 크롤링)\n",
    "\n",
    "from bs4 import BeautifulSoup as bs\n",
    "import urllib.request\n",
    "import pandas as pd\n",
    "\n",
    "num = 0\n",
    "def kyochon_store(result):\n",
    "    for sido in range(9, 10):\n",
    "      for gu in range(16, 19):\n",
    "        try:\n",
    "          kyochon_url = 'http://www.kyochon.com/shop/domestic.asp?txtsearch=&sido1=%s&sido2=%s' % (sido, gu)\n",
    "          html = urllib.request.urlopen(kyochon_url)\n",
    "          soupKyochon = bs(html, 'html.parser')\n",
    "          ul_tag = soupKyochon.find(\"div\", {\"class\": \"shopSchList\"})\n",
    "\n",
    "          for store_data in ul_tag.findAll('a'):\n",
    "            store_name = store_data.find('strong').get_text()\n",
    "            store_address = store_data.find('em').get_text().strip().split('\\r')[0]\n",
    "            store_sido_gu = store_address.split()[:2]\n",
    "            result.append([store_name] + [store_sido_gu] + [store_address])\n",
    "            print(store_name)\n",
    "        except:\n",
    "          pass\n",
    "\n",
    "\n",
    "def main():\n",
    "  result = []\n",
    "  kyochon_store(result)\n",
    "  kyochon_tbl = pd.DataFrame(result, columns=('store_name', 'store_sido_gu', 'store_address'))\n",
    "  kyochon_tbl.to_csv('./docs/kyochon/kyochon.csv', encoding='cp949', mode='w', index=True)\n",
    "  print('------ 완료 ------')\n",
    "  del result[:]\n"
   ],
   "outputs": [],
   "execution_count": 3
  },
  {
   "metadata": {
    "ExecuteTime": {
     "end_time": "2024-05-01T05:19:04.433085Z",
     "start_time": "2024-05-01T05:19:02.604989Z"
    }
   },
   "cell_type": "code",
   "source": [
    "if __name__ == '__main__':\n",
    "  main()"
   ],
   "id": "cdde65023df95e34",
   "outputs": [
    {
     "name": "stdout",
     "output_type": "stream",
     "text": [
      "동판교\n",
      "무지개마을\n",
      "미금\n",
      "분당효자\n",
      "서판교\n",
      "서현\n",
      "아름마을\n",
      "야탑1호\n",
      "야탑역\n",
      "정자\n",
      "고등\n",
      "성남위례\n",
      "수진1호\n",
      "신흥1호\n",
      "태평1동\n",
      "금광1호\n",
      "모란역\n",
      "은행1호(성남)\n",
      "------ 완료 ------\n"
     ]
    }
   ],
   "execution_count": 4
  },
  {
   "metadata": {},
   "cell_type": "code",
   "outputs": [],
   "execution_count": null,
   "source": "",
   "id": "a5a681eaaedd0b5e"
  }
 ],
 "metadata": {
  "kernelspec": {
   "display_name": "Python 3",
   "language": "python",
   "name": "python3"
  },
  "language_info": {
   "codemirror_mode": {
    "name": "ipython",
    "version": 2
   },
   "file_extension": ".py",
   "mimetype": "text/x-python",
   "name": "python",
   "nbconvert_exporter": "python",
   "pygments_lexer": "ipython2",
   "version": "2.7.6"
  }
 },
 "nbformat": 4,
 "nbformat_minor": 5
}
