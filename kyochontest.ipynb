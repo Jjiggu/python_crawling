{
 "cells": [
  {
   "cell_type": "code",
   "id": "initial_id",
   "metadata": {
    "collapsed": true
   },
   "source": [
    "# ch06/kyochon_crawler.py : 교촌 영업 매장 크롤링 (정적 웹 크롤링)\n",
    "\n",
    "from bs4 import BeautifulSoup as bs\n",
    "import urllib.request\n",
    "import pandas as pd\n",
    "\n",
    "num = 0\n",
    "def kyochon_store(result):\n",
    "    for area in range(9, 10): # 경기도의 코드 : 9\n",
    "      for city in range(16, 19): # 성남시 소재 구 : 16 ~ 18\n",
    "        try:\n",
    "          kyochon_url = 'http://www.kyochon.com/shop/domestic.asp?txtsearch=&sido1=%s&sido2=%s' % (area, city)\n",
    "          html = urllib.request.urlopen(kyochon_url)\n",
    "          soup_Kyochon = bs(html, 'html.parser')\n",
    "          ul_tag = soup_Kyochon.find(\"div\", {\"class\": \"shopSchList\"})\n",
    "\n",
    "          for store_data in ul_tag.findAll('a'):\n",
    "            store_name = store_data.find('strong').get_text()\n",
    "            store_address = store_data.find('em').get_text().strip().split('\\r')[0]\n",
    "            store_area_city = store_address.split()[:2]\n",
    "            result.append([store_name] + [store_area_city] + [store_address])\n",
    "            print(store_name)\n",
    "        except:\n",
    "          pass\n",
    "\n",
    "\n",
    "def main():\n",
    "  result = []\n",
    "  print('------ 매장 정보를 수집합니다.------')\n",
    "  kyochon_store(result)\n",
    "  kyochon_tbl = pd.DataFrame(result, columns=('store_name', 'store_area_city', 'store_address'))\n",
    "  kyochon_tbl.to_csv('./docs/kyochon/kyochon.csv', encoding='cp949', mode='w', index=True)\n",
    "  print('------ 매장 정보 수집이 완료되었습니다. ------')\n",
    "  del result[:]\n"
   ],
   "outputs": [],
   "execution_count": null
  },
  {
   "metadata": {},
   "cell_type": "code",
   "source": [
    "if __name__ == '__main__':\n",
    "  main()"
   ],
   "id": "cdde65023df95e34",
   "outputs": [],
   "execution_count": null
  }
 ],
 "metadata": {
  "kernelspec": {
   "display_name": "Python 3",
   "language": "python",
   "name": "python3"
  },
  "language_info": {
   "codemirror_mode": {
    "name": "ipython",
    "version": 2
   },
   "file_extension": ".py",
   "mimetype": "text/x-python",
   "name": "python",
   "nbconvert_exporter": "python",
   "pygments_lexer": "ipython2",
   "version": "2.7.6"
  }
 },
 "nbformat": 4,
 "nbformat_minor": 5
}
