{
 "cells": [
  {
   "metadata": {
    "id": "929cc6f94e3ee4c1"
   },
   "cell_type": "markdown",
   "source": [
    "### OpenApi Covid 크롤러"
   ],
   "id": "929cc6f94e3ee4c1"
  },
  {
   "cell_type": "code",
   "source": [
    "datatest = \"{0}{1:0>2}{2:0>2}\".format(str(2023), str(12), str(31))"
   ],
   "metadata": {
    "id": "ZWs4lNKz_Hho"
   },
   "id": "ZWs4lNKz_Hho",
   "outputs": [],
   "execution_count": null
  },
  {
   "cell_type": "code",
   "source": [
    "type(datatest)"
   ],
   "metadata": {
    "colab": {
     "base_uri": "https://localhost:8080/"
    },
    "id": "JaRs-W-M_Sz3",
    "outputId": "85468d99-7cca-48d6-ff58-30787ad0ad8f"
   },
   "id": "JaRs-W-M_Sz3",
   "outputs": [],
   "execution_count": null
  },
  {
   "cell_type": "code",
   "source": [
    "for i in range(1, 13):\n",
    "  print(i)"
   ],
   "metadata": {
    "colab": {
     "base_uri": "https://localhost:8080/"
    },
    "id": "kSxRlRcdJGW5",
    "outputId": "1e58aa0e-55c8-4eb7-a4c8-f8b40b0a6a01"
   },
   "id": "kSxRlRcdJGW5",
   "outputs": [],
   "execution_count": null
  },
  {
   "metadata": {},
   "cell_type": "code",
   "source": "respnseDatatest = getRequestUrl(\"https://apis.data.go.kr/1352000/ODMS_COVID_02/callCovid02Api?apiType=JSON&serviceKey=PrnCXubPpC7QR6yoJ3Fe2us5MIA%2Bcr8zHjEm0Er26tGnMHOFTv9lz47fAygM%2Fo4cTZZroZwtX9t2NjeEADvfgw%3D%3D&status_dt=20211028\")",
   "id": "83152fafe6e3f764",
   "outputs": [],
   "execution_count": null
  },
  {
   "metadata": {},
   "cell_type": "code",
   "source": "getCovidStatsItem(\"20200932\")",
   "id": "a06168bde568bc5b",
   "outputs": [],
   "execution_count": null
  },
  {
   "metadata": {
    "id": "51b246d9887b7f30"
   },
   "cell_type": "markdown",
   "source": [
    "\n",
    "## 필요한 패키지 import"
   ],
   "id": "51b246d9887b7f30"
  },
  {
   "metadata": {
    "id": "e0909d50d132c51b",
    "ExecuteTime": {
     "end_time": "2024-04-29T14:05:10.523338Z",
     "start_time": "2024-04-29T14:05:10.518749Z"
    }
   },
   "cell_type": "code",
   "source": [
    "import os\n",
    "import sys\n",
    "import urllib.request\n",
    "import datetime\n",
    "import time\n",
    "import json\n",
    "import pandas as pd"
   ],
   "id": "e0909d50d132c51b",
   "outputs": [],
   "execution_count": 55
  },
  {
   "metadata": {
    "id": "3f7df2e1408d0c7b"
   },
   "cell_type": "markdown",
   "source": [
    "### ServiceKey 정보 입력"
   ],
   "id": "3f7df2e1408d0c7b"
  },
  {
   "metadata": {
    "id": "2326c4fdb8f374f1",
    "ExecuteTime": {
     "end_time": "2024-04-29T14:05:12.561372Z",
     "start_time": "2024-04-29T14:05:12.557974Z"
    }
   },
   "cell_type": "code",
   "source": [
    "serviceKey = \"PrnCXubPpC7QR6yoJ3Fe2us5MIA%2Bcr8zHjEm0Er26tGnMHOFTv9lz47fAygM%2Fo4cTZZroZwtX9t2NjeEADvfgw%3D%3D\""
   ],
   "id": "2326c4fdb8f374f1",
   "outputs": [],
   "execution_count": 56
  },
  {
   "metadata": {
    "id": "51133033494a8f12"
   },
   "cell_type": "markdown",
   "source": [
    "### 크롤러에 필요한 함수 선언"
   ],
   "id": "51133033494a8f12"
  },
  {
   "metadata": {
    "id": "f85c089669fd717b",
    "ExecuteTime": {
     "end_time": "2024-04-29T14:05:13.578610Z",
     "start_time": "2024-04-29T14:05:13.571085Z"
    }
   },
   "cell_type": "code",
   "source": [
    "#[Code 1]\n",
    "def getRequestUrl(url):\n",
    "    req = urllib.request.Request(url)\n",
    "    try:\n",
    "        response = urllib.request.urlopen(req)\n",
    "        if response.getcode() == 200:\n",
    "            print(\"[%s] Url Request Success\" % datetime.datetime.now())\n",
    "            print(response.headers)\n",
    "            return response.read().decode(\"utf-8\")\n",
    "    except Exception as e:\n",
    "            print(e)\n",
    "            print(\"[%s] Error for URL : %s\" % (datetime.datetime.now(), url))\n",
    "            return None"
   ],
   "id": "f85c089669fd717b",
   "outputs": [],
   "execution_count": 57
  },
  {
   "metadata": {
    "id": "ec91bd2ad1a0635e",
    "ExecuteTime": {
     "end_time": "2024-04-29T14:05:14.384520Z",
     "start_time": "2024-04-29T14:05:14.378783Z"
    }
   },
   "cell_type": "code",
   "source": [
    "#[CODE 2]\n",
    "def getCovidStatsItem(status_dt):\n",
    "    service_url = \"http://apis.data.go.kr/1352000/ODMS_COVID_02/callCovid02Api\"\n",
    "    parameters = \"?apiType=JSON&serviceKey=\" + serviceKey\n",
    "    parameters += \"&status_dt=\" + status_dt\n",
    "    # parameters += \"&numOfRows=\" + numOfRows\n",
    "    # parameters += \"&pageNo=\" + pageNo\n",
    "\n",
    "    url = service_url + parameters\n",
    "\n",
    "    response_data = getRequestUrl(url)\n",
    "    \n",
    "    \n",
    "    if (response_data == None):\n",
    "        return None\n",
    "    else:\n",
    "        return json.loads(response_data)\n"
   ],
   "id": "ec91bd2ad1a0635e",
   "outputs": [],
   "execution_count": 58
  },
  {
   "metadata": {
    "id": "c5efd40a18865ace",
    "ExecuteTime": {
     "end_time": "2024-04-29T14:08:45.920929Z",
     "start_time": "2024-04-29T14:08:45.886420Z"
    }
   },
   "cell_type": "code",
   "source": [
    "#[CODE 3]\n",
    "def getCovidstatsService(statusDt, endStatusDt):\n",
    "    jsonResult=[]\n",
    "    result = []\n",
    "    # statusDt = str(statusDt)\n",
    "    # endStatusDt = str(endStatusDt)\n",
    "    dataEnd = \"{0}{1:0>2}{2:0>2}\".format(str(endStatusDt), str(12), str(31))\n",
    "    isDataEnd = 0\n",
    "\n",
    "    for year in range(statusDt, endStatusDt+1):\n",
    "        for month in range(10, 11):\n",
    "          for date in range(28, 31):\n",
    "            if(isDataEnd == 1) : break\n",
    "            startDate = \"{0}{1:0>2}{2:0>2}\".format(str(year), str(month), str(date))\n",
    "            jsonData = getCovidStatsItem(startDate)\n",
    "\n",
    "            if(jsonData['resultMsg'] == 'NORMAL SERVICE'):\n",
    "                if jsonData['items'] == '':\n",
    "                    isDataEnd = 1\n",
    "                    dataEnd = \"{0}{1:0>2}{2:0>2}\".format(str(year), str(month), str(date))\n",
    "                    print(\"데이터 없음.... \\n 제공되는 통계 데이터는 %s년 %s월 %s일 까지입니다.\" % (str(year), str(month), str(date)))\n",
    "                    break\n",
    "                    \n",
    "                print(json.dumps(jsonData, indent=4, sort_keys=True, ensure_ascii=False))\n",
    "\n",
    "                pageNo = jsonData['pageNo']\n",
    "                resultCode = jsonData['resultCode']\n",
    "                totalCount = jsonData['totalCount']\n",
    "                \n",
    "                accDefRate = jsonData['items'][0]['accDefRate']\n",
    "                accExamCnt = jsonData['items'][0]['accExamCnt']\n",
    "                accExamCompCnt = jsonData['items'][0]['accExamCompCnt']\n",
    "                careCnt = jsonData['items'][0]['careCnt']\n",
    "                dPntCnt = jsonData['items'][0]['dPntCnt']\n",
    "                gPntCnt = jsonData['items'][0]['gPntCnt']\n",
    "                hPntCnt = jsonData['items'][0]['hPntCnt']\n",
    "                resutlNegCnt = jsonData['items'][0]['resutlNegCnt']\n",
    "                statusDt = jsonData['items'][0]['statusDt']\n",
    "                statusTime = jsonData['items'][0]['statusTime']\n",
    "                uPntCnt = jsonData['items'][0]['uPntCnt']\n",
    "\n",
    "                numOfRows = jsonData['numOfRows']\n",
    "                resultMsg = jsonData['resultMsg']\n",
    "                \n",
    "                print('----------------------------------------------------------------------')\n",
    "                jsonResult.append({'pageNo' : pageNo,\n",
    "                                   'resultCode' : resultCode,\n",
    "                                   'totalCount': totalCount,\n",
    "                                   'items' : [{\n",
    "                                       'accDefRate' : accDefRate,\n",
    "                                       'accExamCnt' : accExamCnt,\n",
    "                                       'accExamCompCnt' :accExamCompCnt,\n",
    "                                        'careCnt' : careCnt,\n",
    "                                        'dPntCnt' : dPntCnt,\n",
    "                                        'gPntCnt' : gPntCnt,\n",
    "                                        'hPntCnt': hPntCnt,\n",
    "                                        'resultNegCnt' : resutlNegCnt,\n",
    "                                        'statusDt' : statusDt,\n",
    "                                        'statusTime' : statusTime ,\n",
    "                                        'uPntCnt' : uPntCnt\n",
    "                                   }],\n",
    "                                    'numOfRows' : numOfRows,\n",
    "                                    'resultMsg' : resultMsg\n",
    "                                })\n",
    "                result.append(jsonResult)\n",
    "                    \n",
    "    return (jsonResult, result, dataEnd, totalCount)"
   ],
   "id": "c5efd40a18865ace",
   "outputs": [],
   "execution_count": 64
  },
  {
   "metadata": {
    "id": "b122de330bfbfcb1",
    "ExecuteTime": {
     "end_time": "2024-04-29T14:08:47.275100Z",
     "start_time": "2024-04-29T14:08:47.266594Z"
    }
   },
   "cell_type": "code",
   "source": [
    "def main():\n",
    "    jsonResult = []\n",
    "    result = []\n",
    "    print(\"보건복지부_코로나19 감염현황 총괄 통계 데이터를 수집합니다.\")\n",
    "    # pageNo = input('페이지 번호를 입력하세요')\n",
    "    # numOfRows = input('한 페이지에 표시되는 데이터 수를 입력하세요')\n",
    "    statusDt = int(input('데이터를 몇 년부터 수집할까요? : '))\n",
    "    endStatusDt = int(input('데이터를 몇 년까지 수집할까요? : '))\n",
    "\n",
    "    jsonResult, result, dataEnd, totalCount = getCovidstatsService(statusDt, endStatusDt)\n",
    "\n",
    "    if (totalCount==0) : #URL 요청은 성공하였지만, 데이터 제공이 안된 경우\n",
    "        print('데이터가 전달되지 않았습니다. 공공데이터포털의 서비스 상태를 확인하기 바랍니다.')\n",
    "    else:\n",
    "        with open('./%d_%d.json' % (statusDt, endStatusDt), 'w', encoding='utf8') as outfile:\n",
    "            jsonFile = json.dumps(jsonResult, indent=4, sort_keys=True, ensure_ascii=False)\n",
    "            outfile.write(jsonFile)\n",
    "        # colums = ['totalCount', 'hPntCnt', 'statusDt', 'endStatusDt']\n",
    "        # result_df = pd.DataFrame(result, columns=colums)\n",
    "        # result_df.to_csv('./%d_%d_%s_%s.csv' %(totalCount, statusDt, endStatusDt), index=False, encoding='cp949')"
   ],
   "id": "b122de330bfbfcb1",
   "outputs": [],
   "execution_count": 65
  },
  {
   "metadata": {
    "id": "a50b4d3b5908a38c"
   },
   "cell_type": "markdown",
   "source": [
    "### 실행"
   ],
   "id": "a50b4d3b5908a38c"
  },
  {
   "metadata": {
    "id": "80b9b2e429fdb4a1",
    "colab": {
     "base_uri": "https://localhost:8080/",
     "height": 373
    },
    "outputId": "ae7e54e4-4c8e-4cde-cdd5-550d9088e54d",
    "ExecuteTime": {
     "end_time": "2024-04-29T14:09:12.387334Z",
     "start_time": "2024-04-29T14:08:54.090487Z"
    }
   },
   "cell_type": "code",
   "source": [
    "if __name__ == '__main__':\n",
    "    main()"
   ],
   "id": "80b9b2e429fdb4a1",
   "outputs": [
    {
     "name": "stdout",
     "output_type": "stream",
     "text": [
      "보건복지부_코로나19 감염현황 총괄 통계 데이터를 수집합니다.\n",
      "[2024-04-29 23:09:02.347606] Url Request Success\n",
      "Set-Cookie: JSESSIONID=iTc3T0le_bPL9IIFeVuRO7HaVxVCZ3WF7hK78TES.ODMS4; Path=/1352000/ODMS_COVID_02; Domain=apis.data.go.kr\n",
      "Access-Control-Allow-Origin: *\n",
      "Content-Type: application/json;charset=UTF-8\n",
      "Content-Length: 338\n",
      "Date: Mon, 29 Apr 2024 14:09:02 GMT\n",
      "Connection: close\n",
      "Server: NIA API Server\n",
      "\n",
      "\n",
      "{\n",
      "    \"items\": [\n",
      "        {\n",
      "            \"accDefRate\": \"1.021305784\",\n",
      "            \"accExamCnt\": \"2582960\",\n",
      "            \"accExamCompCnt\": \"2560056\",\n",
      "            \"careCnt\": \"1617\",\n",
      "            \"dPntCnt\": \"24068\",\n",
      "            \"gPntCnt\": \"461\",\n",
      "            \"hPntCnt\": \"26146\",\n",
      "            \"resutlNegCnt\": \"2533910\",\n",
      "            \"statusDt\": \"20201028\",\n",
      "            \"statusTime\": \"00:00\",\n",
      "            \"uPntCnt\": \"22904\"\n",
      "        }\n",
      "    ],\n",
      "    \"numOfRows\": \"500\",\n",
      "    \"pageNo\": \"1\",\n",
      "    \"resultCode\": \"00\",\n",
      "    \"resultMsg\": \"NORMAL SERVICE\",\n",
      "    \"totalCount\": 1\n",
      "}\n",
      "----------------------------------------------------------------------\n",
      "[2024-04-29 23:09:06.750416] Url Request Success\n",
      "Set-Cookie: JSESSIONID=cE8nxLMuYPRmEAwbVgDIL1aQVMR4LqtDqfuZUgQd.ODMS3; Path=/1352000/ODMS_COVID_02; Domain=apis.data.go.kr\n",
      "Access-Control-Allow-Origin: *\n",
      "Content-Type: application/json;charset=UTF-8\n",
      "Content-Length: 338\n",
      "Date: Mon, 29 Apr 2024 14:09:06 GMT\n",
      "Connection: close\n",
      "Server: NIA API Server\n",
      "\n",
      "\n",
      "{\n",
      "    \"items\": [\n",
      "        {\n",
      "            \"accDefRate\": \"1.021490534\",\n",
      "            \"accExamCnt\": \"2597978\",\n",
      "            \"accExamCompCnt\": \"2571830\",\n",
      "            \"careCnt\": \"1646\",\n",
      "            \"dPntCnt\": \"24163\",\n",
      "            \"gPntCnt\": \"462\",\n",
      "            \"hPntCnt\": \"26271\",\n",
      "            \"resutlNegCnt\": \"2545559\",\n",
      "            \"statusDt\": \"20201029\",\n",
      "            \"statusTime\": \"00:00\",\n",
      "            \"uPntCnt\": \"26148\"\n",
      "        }\n",
      "    ],\n",
      "    \"numOfRows\": \"500\",\n",
      "    \"pageNo\": \"1\",\n",
      "    \"resultCode\": \"00\",\n",
      "    \"resultMsg\": \"NORMAL SERVICE\",\n",
      "    \"totalCount\": 1\n",
      "}\n",
      "----------------------------------------------------------------------\n",
      "[2024-04-29 23:09:12.382689] Url Request Success\n",
      "Set-Cookie: JSESSIONID=oarbzcNEwv0tFiFXY8_2HKE3PHosze8gZybXZpod.ODMS4; Path=/1352000/ODMS_COVID_02; Domain=apis.data.go.kr\n",
      "Access-Control-Allow-Origin: *\n",
      "Content-Type: application/json;charset=UTF-8\n",
      "Content-Length: 338\n",
      "Date: Mon, 29 Apr 2024 14:09:11 GMT\n",
      "Connection: close\n",
      "Server: NIA API Server\n",
      "\n",
      "\n",
      "{\n",
      "    \"items\": [\n",
      "        {\n",
      "            \"accDefRate\": \"1.020318981\",\n",
      "            \"accExamCnt\": \"2612231\",\n",
      "            \"accExamCompCnt\": \"2585858\",\n",
      "            \"careCnt\": \"1698\",\n",
      "            \"dPntCnt\": \"24223\",\n",
      "            \"gPntCnt\": \"463\",\n",
      "            \"hPntCnt\": \"26384\",\n",
      "            \"resutlNegCnt\": \"2559474\",\n",
      "            \"statusDt\": \"20201030\",\n",
      "            \"statusTime\": \"00:00\",\n",
      "            \"uPntCnt\": \"26373\"\n",
      "        }\n",
      "    ],\n",
      "    \"numOfRows\": \"500\",\n",
      "    \"pageNo\": \"1\",\n",
      "    \"resultCode\": \"00\",\n",
      "    \"resultMsg\": \"NORMAL SERVICE\",\n",
      "    \"totalCount\": 1\n",
      "}\n",
      "----------------------------------------------------------------------\n"
     ]
    }
   ],
   "execution_count": 66
  },
  {
   "cell_type": "code",
   "source": [],
   "metadata": {
    "id": "RVeY328bjXRr"
   },
   "id": "RVeY328bjXRr",
   "outputs": [],
   "execution_count": null
  }
 ],
 "metadata": {
  "kernelspec": {
   "display_name": "Python 3",
   "language": "python",
   "name": "python3"
  },
  "language_info": {
   "codemirror_mode": {
    "name": "ipython",
    "version": 2
   },
   "file_extension": ".py",
   "mimetype": "text/x-python",
   "name": "python",
   "nbconvert_exporter": "python",
   "pygments_lexer": "ipython2",
   "version": "2.7.6"
  },
  "colab": {
   "provenance": []
  }
 },
 "nbformat": 4,
 "nbformat_minor": 5
}
