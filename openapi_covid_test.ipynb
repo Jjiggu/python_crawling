{
 "cells": [
  {
   "metadata": {
    "id": "929cc6f94e3ee4c1"
   },
   "cell_type": "markdown",
   "source": [
    "### OpenApi Covid 크롤러"
   ],
   "id": "929cc6f94e3ee4c1"
  },
  {
   "cell_type": "code",
   "source": [
    "datatest = \"{0}{1:0>2}{2:0>2}\".format(str(2023), str(12), str(31))"
   ],
   "metadata": {
    "id": "ZWs4lNKz_Hho"
   },
   "id": "ZWs4lNKz_Hho",
   "outputs": [],
   "execution_count": null
  },
  {
   "cell_type": "code",
   "source": [
    "type(datatest)"
   ],
   "metadata": {
    "colab": {
     "base_uri": "https://localhost:8080/"
    },
    "id": "JaRs-W-M_Sz3",
    "outputId": "85468d99-7cca-48d6-ff58-30787ad0ad8f"
   },
   "id": "JaRs-W-M_Sz3",
   "outputs": [],
   "execution_count": null
  },
  {
   "cell_type": "code",
   "source": [
    "for i in range(1, 13):\n",
    "  print(i)"
   ],
   "metadata": {
    "colab": {
     "base_uri": "https://localhost:8080/"
    },
    "id": "kSxRlRcdJGW5",
    "outputId": "1e58aa0e-55c8-4eb7-a4c8-f8b40b0a6a01"
   },
   "id": "kSxRlRcdJGW5",
   "outputs": [],
   "execution_count": null
  },
  {
   "metadata": {},
   "cell_type": "code",
   "source": "respnseDatatest = getRequestUrl(\"https://apis.data.go.kr/1352000/ODMS_COVID_02/callCovid02Api?apiType=JSON&serviceKey=PrnCXubPpC7QR6yoJ3Fe2us5MIA%2Bcr8zHjEm0Er26tGnMHOFTv9lz47fAygM%2Fo4cTZZroZwtX9t2NjeEADvfgw%3D%3D&status_dt=20211028\")",
   "id": "83152fafe6e3f764",
   "outputs": [],
   "execution_count": null
  },
  {
   "metadata": {},
   "cell_type": "code",
   "source": "getCovidStatsItem(\"20200932\")",
   "id": "a06168bde568bc5b",
   "outputs": [],
   "execution_count": null
  },
  {
   "metadata": {},
   "cell_type": "code",
   "source": [
    "import calendar\n",
    "import datetime as dt\n",
    "import pandas as pd"
   ],
   "id": "2e82d386304fce5d",
   "outputs": [],
   "execution_count": null
  },
  {
   "metadata": {},
   "cell_type": "code",
   "source": "calendar.monthrange(2020, 10)[1] + 1",
   "id": "dfcafdfb099dfcbd",
   "outputs": [],
   "execution_count": null
  },
  {
   "metadata": {},
   "cell_type": "code",
   "source": [
    "date = '20201028'\n",
    "x = dt.datetime.strptime(date, '%Y%m%d')\n",
    "type(x.year)\n",
    "# print(x.month)\n",
    "# print(x.day)"
   ],
   "id": "1818411aa8a60c54",
   "outputs": [],
   "execution_count": null
  },
  {
   "metadata": {},
   "cell_type": "code",
   "source": "x",
   "id": "9cb90796f1f161ff",
   "outputs": [],
   "execution_count": null
  },
  {
   "metadata": {},
   "cell_type": "code",
   "source": [
    "start_date = '20201028'\n",
    "end_date = '20201130'\n",
    "\n",
    "x = dt.datetime.strptime(start_date, '%Y%m%d')\n",
    "y = dt.datetime.strptime(end_date, '%Y%m%d')"
   ],
   "id": "c6189314c2ab3093",
   "outputs": [],
   "execution_count": null
  },
  {
   "metadata": {},
   "cell_type": "code",
   "source": [
    "while x <= y:\n",
    "    print(x)\n",
    "    x += dt.timedelta(days=1)"
   ],
   "id": "9e5da5df2eed2b79",
   "outputs": [],
   "execution_count": null
  },
  {
   "metadata": {},
   "cell_type": "code",
   "source": [
    "pr = pd.period_range(start='20201028',end='20201231', freq='D')\n",
    "for j in pr:\n",
    "    print('조회결과: {}'.format(str(i).replace('-','')))\n",
    "    test = j.strftime('%Y%m%d') \n",
    "    # startDate = test\n",
    "    print(test)\n",
    "    print(type(test))"
   ],
   "id": "a58660585bb44eb8",
   "outputs": [],
   "execution_count": null
  },
  {
   "metadata": {},
   "cell_type": "code",
   "source": "",
   "id": "e8e4ac5be1710030",
   "outputs": [],
   "execution_count": null
  },
  {
   "metadata": {},
   "cell_type": "code",
   "source": [
    "#[CODE 3]\n",
    "def getCovidstatsService(statusDt, endStatusDt):\n",
    "    jsonResult=[]\n",
    "    result = []\n",
    "    statusDt = dt.datetime.strptime(statusDt, '%Y%m%d')\n",
    "    endStatusDt = dt.datetime.strptime(endStatusDt, '%Y%m%d')\n",
    "    \n",
    "    \n",
    "    pr_test = pd.period_range(start=str(statusDt),end=str(endStatusDt), freq='D')\n",
    "    pr_main = pr.format(str(pr_test).replace('-',''))\n",
    "    \n",
    "    dataEnd = \"{0}{1:0>2}{2:0>2}\".format(str(endStatusDt), str(12), str(31))\n",
    "    isDataEnd = 0\n",
    "\n",
    "    for i in range(pr_main):\n",
    "            if(isDataEnd == 1) : break\n",
    "            startDate = i.strftime('%Y%m%d') \n",
    "            jsonData = getCovidStatsItem(startDate)\n",
    "            \n",
    "            if(jsonData['resultMsg'] == 'NORMAL SERVICE'):\n",
    "                if jsonData['items'] == '':\n",
    "                    isDataEnd = 1\n",
    "                    dataEnd = str(endStatusDt) \n",
    "                    print(\"데이터 없음.... \\n 제공되는 통계 데이터는 %s년 %s월 %s일 까지입니다.\" % (str(startDate.year), str(startDate.month), str(startDate.day)))\n",
    "                    break\n",
    "                    \n",
    "                print(json.dumps(jsonData, indent=4, sort_keys=True, ensure_ascii=False))\n",
    "\n",
    "                pageNo = jsonData['pageNo']\n",
    "                resultCode = jsonData['resultCode']\n",
    "                totalCount = jsonData['totalCount']\n",
    "                \n",
    "                accDefRate = jsonData['items'][0]['accDefRate']\n",
    "                accExamCnt = jsonData['items'][0]['accExamCnt']\n",
    "                accExamCompCnt = jsonData['items'][0]['accExamCompCnt']\n",
    "                careCnt = jsonData['items'][0]['careCnt']\n",
    "                dPntCnt = jsonData['items'][0]['dPntCnt']\n",
    "                gPntCnt = jsonData['items'][0]['gPntCnt']\n",
    "                hPntCnt = jsonData['items'][0]['hPntCnt']\n",
    "                resutlNegCnt = jsonData['items'][0]['resutlNegCnt']\n",
    "                statusDt = jsonData['items'][0]['statusDt']\n",
    "                statusTime = jsonData['items'][0]['statusTime']\n",
    "                uPntCnt = jsonData['items'][0]['uPntCnt']\n",
    "\n",
    "                numOfRows = jsonData['numOfRows']\n",
    "                resultMsg = jsonData['resultMsg']\n",
    "                \n",
    "                print('----------------------------------------------------------------------')\n",
    "                jsonResult.append({'pageNo' : pageNo,\n",
    "                                   'resultCode' : resultCode,\n",
    "                                   'totalCount': totalCount,\n",
    "                                   'items' : [{\n",
    "                                       'accDefRate' : accDefRate,\n",
    "                                       'accExamCnt' : accExamCnt,\n",
    "                                       'accExamCompCnt' :accExamCompCnt,\n",
    "                                        'careCnt' : careCnt,\n",
    "                                        'dPntCnt' : dPntCnt,\n",
    "                                        'gPntCnt' : gPntCnt,\n",
    "                                        'hPntCnt': hPntCnt,\n",
    "                                        'resultNegCnt' : resutlNegCnt,\n",
    "                                        'statusDt' : statusDt,\n",
    "                                        'statusTime' : statusTime ,\n",
    "                                        'uPntCnt' : uPntCnt\n",
    "                                   }],\n",
    "                                    'numOfRows' : numOfRows,\n",
    "                                    'resultMsg' : resultMsg\n",
    "                                })\n",
    "                result.append(jsonResult)\n",
    "                    \n",
    "    return (jsonResult, result, dataEnd, totalCount)"
   ],
   "id": "23e4e4a3cae6468d",
   "outputs": [],
   "execution_count": null
  },
  {
   "metadata": {
    "id": "51b246d9887b7f30"
   },
   "cell_type": "markdown",
   "source": "## 필요한 패키지 import",
   "id": "51b246d9887b7f30"
  },
  {
   "metadata": {
    "id": "e0909d50d132c51b",
    "ExecuteTime": {
     "end_time": "2024-04-29T15:45:38.644926Z",
     "start_time": "2024-04-29T15:45:38.640473Z"
    }
   },
   "cell_type": "code",
   "source": [
    "import os\n",
    "import sys\n",
    "import urllib.request\n",
    "import datetime\n",
    "import time\n",
    "import json\n",
    "import pandas as pd"
   ],
   "id": "e0909d50d132c51b",
   "outputs": [],
   "execution_count": 164
  },
  {
   "metadata": {
    "id": "3f7df2e1408d0c7b"
   },
   "cell_type": "markdown",
   "source": [
    "### ServiceKey 정보 입력"
   ],
   "id": "3f7df2e1408d0c7b"
  },
  {
   "metadata": {
    "id": "2326c4fdb8f374f1",
    "ExecuteTime": {
     "end_time": "2024-04-29T15:45:39.248709Z",
     "start_time": "2024-04-29T15:45:39.244606Z"
    }
   },
   "cell_type": "code",
   "source": [
    "serviceKey = \"PrnCXubPpC7QR6yoJ3Fe2us5MIA%2Bcr8zHjEm0Er26tGnMHOFTv9lz47fAygM%2Fo4cTZZroZwtX9t2NjeEADvfgw%3D%3D\""
   ],
   "id": "2326c4fdb8f374f1",
   "outputs": [],
   "execution_count": 165
  },
  {
   "metadata": {
    "id": "51133033494a8f12"
   },
   "cell_type": "markdown",
   "source": [
    "### 크롤러에 필요한 함수 선언"
   ],
   "id": "51133033494a8f12"
  },
  {
   "metadata": {
    "id": "f85c089669fd717b",
    "ExecuteTime": {
     "end_time": "2024-04-29T15:45:40.040427Z",
     "start_time": "2024-04-29T15:45:40.032281Z"
    }
   },
   "cell_type": "code",
   "source": [
    "#[Code 1]\n",
    "def getRequestUrl(url):\n",
    "    req = urllib.request.Request(url)\n",
    "    try:\n",
    "        response = urllib.request.urlopen(req)\n",
    "        if response.getcode() == 200:\n",
    "            print(\"[%s] Url Request Success\" % datetime.datetime.now())\n",
    "            print(response.headers)\n",
    "            return response.read().decode(\"utf-8\")\n",
    "    except Exception as e:\n",
    "            print(e)\n",
    "            print(\"[%s] Error for URL : %s\" % (datetime.datetime.now(), url))\n",
    "            return None"
   ],
   "id": "f85c089669fd717b",
   "outputs": [],
   "execution_count": 166
  },
  {
   "metadata": {
    "id": "ec91bd2ad1a0635e",
    "ExecuteTime": {
     "end_time": "2024-04-29T15:45:41.698954Z",
     "start_time": "2024-04-29T15:45:41.686338Z"
    }
   },
   "cell_type": "code",
   "source": [
    "#[CODE 2]\n",
    "def getCovidStatsItem(status_dt):\n",
    "    service_url = \"http://apis.data.go.kr/1352000/ODMS_COVID_02/callCovid02Api\"\n",
    "    parameters = \"?apiType=JSON&serviceKey=\" + serviceKey\n",
    "    parameters += \"&status_dt=\" + status_dt\n",
    "    # parameters += \"&numOfRows=\" + numOfRows\n",
    "    # parameters += \"&pageNo=\" + pageNo\n",
    "\n",
    "    url = service_url + parameters\n",
    "\n",
    "    response_data = getRequestUrl(url)\n",
    "    \n",
    "    \n",
    "    if (response_data == None):\n",
    "        return None\n",
    "    else:\n",
    "        return json.loads(response_data)\n"
   ],
   "id": "ec91bd2ad1a0635e",
   "outputs": [],
   "execution_count": 167
  },
  {
   "metadata": {
    "ExecuteTime": {
     "end_time": "2024-04-29T16:52:42.782305Z",
     "start_time": "2024-04-29T16:52:42.723472Z"
    }
   },
   "cell_type": "code",
   "source": [
    "#[CODE 3]\n",
    "def getCovidstatsService(statusDt, endStatusDt):\n",
    "    jsonResult=[]\n",
    "    result = []\n",
    "    statusDt = dt.datetime.strptime(statusDt, '%Y%m%d')\n",
    "    endStatusDt = dt.datetime.strptime(endStatusDt, '%Y%m%d')\n",
    "    \n",
    "    \n",
    "    pr_test = pd.period_range(start=statusDt,end=endStatusDt, freq='D')\n",
    "    \n",
    "    dataEnd = \"{0}{1:0>2}{2:0>2}\".format(str(endStatusDt), str(12), str(31))\n",
    "    isDataEnd = 0\n",
    "\n",
    "    for i in pr_test:\n",
    "            if(isDataEnd == 1) : break\n",
    "            # startDate = \"{0}{1:0>2}{2:0>2}\".format(str(i).replace('-',''))\n",
    "            startDate = i.strftime('%Y%m%d')\n",
    "            jsonData = getCovidStatsItem(startDate)\n",
    "            \n",
    "            \n",
    "            if(jsonData['resultMsg'] == 'NORMAL SERVICE'):\n",
    "                if jsonData['items'] == '':\n",
    "                    isDataEnd = 1\n",
    "                    dataEnd = str(endStatusDt) \n",
    "                    print(\"데이터 없음.... \\n 제공되는 통계 데이터는 %s년 %s월 %s일 까지입니다.\" % (str(startDate.year), str(startDate.month), str(startDate.day)))\n",
    "                    break\n",
    "                    \n",
    "                print(json.dumps(jsonData, indent=4, sort_keys=True, ensure_ascii=False))\n",
    "                \n",
    "                accDefRate = jsonData['items'][0]['accDefRate']\n",
    "                accExamCnt = jsonData['items'][0]['accExamCnt']\n",
    "                accExamCompCnt = jsonData['items'][0]['accExamCompCnt']\n",
    "                careCnt = jsonData['items'][0]['careCnt']\n",
    "                dPntCnt = jsonData['items'][0]['dPntCnt']\n",
    "                gPntCnt = jsonData['items'][0]['gPntCnt']\n",
    "                hPntCnt = jsonData['items'][0]['hPntCnt']\n",
    "                resutlNegCnt = jsonData['items'][0]['resutlNegCnt']\n",
    "                statusDt = jsonData['items'][0]['statusDt']\n",
    "                statusTime = jsonData['items'][0]['statusTime']\n",
    "                uPntCnt = jsonData['items'][0]['uPntCnt']\n",
    "            \n",
    "                pageNo = jsonData['pageNo']\n",
    "                resultCode = jsonData['resultCode']\n",
    "                totalCount = jsonData['totalCount']\n",
    "                \n",
    "                numOfRows = jsonData['numOfRows']\n",
    "                resultMsg = jsonData['resultMsg']\n",
    "                \n",
    "                print('----------------------------------------------------------------------')\n",
    "                jsonResult.append({\n",
    "                                    'accDefRate' : accDefRate,\n",
    "                                    'accExamCnt' : accExamCnt,\n",
    "                                    'accExamCompCnt' :accExamCompCnt,\n",
    "                                    'careCnt' : careCnt,\n",
    "                                    'dPntCnt' : dPntCnt,\n",
    "                                    'gPntCnt' : gPntCnt,\n",
    "                                    'hPntCnt': hPntCnt,\n",
    "                                    'resultNegCnt' : resutlNegCnt,\n",
    "                                    'statusDt' : statusDt,\n",
    "                                    'statusTime' : statusTime ,\n",
    "                                    'uPntCnt' : uPntCnt,\n",
    "                                    'pageNo' : pageNo,\n",
    "                                    'resultCode' : resultCode,\n",
    "                                    'totalCount': totalCount,\n",
    "                                    'numOfRows' : numOfRows,\n",
    "                                    'resultMsg' : resultMsg\n",
    "                                })\n",
    "                result.append(jsonResult)\n",
    "                    \n",
    "    return (jsonResult, result, dataEnd, totalCount)"
   ],
   "id": "7dfe7492dac74af",
   "outputs": [],
   "execution_count": 213
  },
  {
   "metadata": {
    "id": "b122de330bfbfcb1",
    "ExecuteTime": {
     "end_time": "2024-04-29T16:55:23.589390Z",
     "start_time": "2024-04-29T16:55:23.580735Z"
    }
   },
   "cell_type": "code",
   "source": [
    "def main():\n",
    "    jsonResult = []\n",
    "    result = []\n",
    "    print(\"보건복지부_코로나19 감염현황 총괄 통계 데이터를 수집합니다.\")\n",
    "    # pageNo = input('페이지 번호를 입력하세요')\n",
    "    # numOfRows = input('한 페이지에 표시되는 데이터 수를 입력하세요')\n",
    "    statusDt = input('데이터를 몇 년부터 수집할까요? : ')\n",
    "    endStatusDt = input('데이터를 몇 년까지 수집할까요? : ')\n",
    "\n",
    "    jsonResult, result, dataEnd, totalCount = getCovidstatsService(statusDt, endStatusDt)\n",
    "\n",
    "    if (totalCount==0) : #URL 요청은 성공하였지만, 데이터 제공이 안된 경우\n",
    "        print('데이터가 전달되지 않았습니다. 공공데이터포털의 서비스 상태를 확인하기 바랍니다.')\n",
    "    else:\n",
    "        with open(f'./{statusDt}_{endStatusDt}.json','w', encoding=\"utf-8\") as outfile:\n",
    "            jsonFile = json.dumps(jsonResult, indent=4, sort_keys=False, ensure_ascii=False)\n",
    "            outfile.write(jsonFile)\n",
    "        # colums1 = ['accDefRate', \n",
    "        #           'accExamCnt', \n",
    "        #           'accExamCompCnt', \n",
    "        #           'careCnt', \n",
    "        #           'dPntCnt', \n",
    "        #           'gPntCnt', \n",
    "        #           'hPntCnt', \n",
    "        #           'resultNegCnt', \n",
    "        #           'statusDt', \n",
    "        #           'statusTime', \n",
    "        #           'uPntCnt',            \n",
    "        #           'numOfRows', \n",
    "        #           'pageNo', \n",
    "        #           'resultCode', \n",
    "        #           'resultMsg', \n",
    "        #           'totalCount'\n",
    "        #           'numOfRows', \n",
    "        #           'pageNo', \n",
    "        #           'resultCode', \n",
    "        #           'resultMsg', \n",
    "        #           'totalCount']\n",
    "        # df1 = pd.DataFrame({colums1 : result})\n",
    "        # result_df = pd.DataFrame({colums : result})\n",
    "        # result_df = pd.DataFrame(result, columns=colums)\n",
    "        result_df = pd.read_json(f'./{statusDt}_{endStatusDt}.json')\n",
    "        result_df.rename(columns={'accDefRate' : '누적확진율', \n",
    "                  'accExamCnt' : '누적검사수', \n",
    "                  'accExamCompCnt' : '누적검사완료수', \n",
    "                  'careCnt' : '치료중환자수', \n",
    "                  'dPntCnt' : '격리해제수', \n",
    "                  'gPntCnt' : '사망자수', \n",
    "                  'hPntCnt' : '확진자수', \n",
    "                  'numOfRows' : '한 페이지 결과 수', \n",
    "                  'pageNo' : '페이지 번호', \n",
    "                  'resultCode' : '결과코드', \n",
    "                  'resultMsg' : '결과메시지',                  \n",
    "                  'resultNegCnt' : '결과음성수', \n",
    "                  'statusDt' : '기준일자', \n",
    "                  'statusTime' : '기준시간',\n",
    "                  'totalCount' : '전체 결과 수',\n",
    "                  'uPntCnt' : '검사중수'}, inplace=True)\n",
    "        result_df.to_csv(f'./{statusDt}_{endStatusDt}.csv', index=False, encoding=\"utf-8\")"
   ],
   "id": "b122de330bfbfcb1",
   "outputs": [],
   "execution_count": 216
  },
  {
   "metadata": {
    "id": "a50b4d3b5908a38c"
   },
   "cell_type": "markdown",
   "source": [
    "### 실행"
   ],
   "id": "a50b4d3b5908a38c"
  },
  {
   "metadata": {
    "id": "80b9b2e429fdb4a1",
    "colab": {
     "base_uri": "https://localhost:8080/",
     "height": 373
    },
    "outputId": "ae7e54e4-4c8e-4cde-cdd5-550d9088e54d",
    "ExecuteTime": {
     "end_time": "2024-04-29T16:55:45.086286Z",
     "start_time": "2024-04-29T16:55:25.037229Z"
    }
   },
   "cell_type": "code",
   "source": [
    "if __name__ == '__main__':\n",
    "    main()"
   ],
   "id": "80b9b2e429fdb4a1",
   "outputs": [
    {
     "name": "stdout",
     "output_type": "stream",
     "text": [
      "보건복지부_코로나19 감염현황 총괄 통계 데이터를 수집합니다.\n",
      "[2024-04-30 01:55:40.563080] Url Request Success\n",
      "Set-Cookie: JSESSIONID=AzMbXTUwbwyTDjbieuCQGuZba5kb4JOls6vS_Qyf.ODMS3; Path=/1352000/ODMS_COVID_02; Domain=apis.data.go.kr\n",
      "Access-Control-Allow-Origin: *\n",
      "Content-Type: application/json;charset=UTF-8\n",
      "Content-Length: 342\n",
      "Date: Mon, 29 Apr 2024 16:55:40 GMT\n",
      "Connection: close\n",
      "Server: NIA API Server\n",
      "\n",
      "\n",
      "{\n",
      "    \"items\": [\n",
      "        {\n",
      "            \"accDefRate\": \"1.455889634\",\n",
      "            \"accExamCnt\": \"9798400\",\n",
      "            \"accExamCompCnt\": \"9670788\",\n",
      "            \"careCnt\": \"7376\",\n",
      "            \"dPntCnt\": \"131457\",\n",
      "            \"gPntCnt\": \"1963\",\n",
      "            \"hPntCnt\": \"140796\",\n",
      "            \"resutlNegCnt\": \"9529992\",\n",
      "            \"statusDt\": \"20210601\",\n",
      "            \"statusTime\": \"00:00\",\n",
      "            \"uPntCnt\": \"127612\"\n",
      "        }\n",
      "    ],\n",
      "    \"numOfRows\": \"500\",\n",
      "    \"pageNo\": \"1\",\n",
      "    \"resultCode\": \"00\",\n",
      "    \"resultMsg\": \"NORMAL SERVICE\",\n",
      "    \"totalCount\": 1\n",
      "}\n",
      "----------------------------------------------------------------------\n",
      "[2024-04-30 01:55:45.068676] Url Request Success\n",
      "Set-Cookie: JSESSIONID=Qrg4F_UyQO-k211pUu-tOwsnv6hRzE5-CGmM4yKo.ODMS4; Path=/1352000/ODMS_COVID_02; Domain=apis.data.go.kr\n",
      "Access-Control-Allow-Origin: *\n",
      "Content-Type: application/json;charset=UTF-8\n",
      "Content-Length: 342\n",
      "Date: Mon, 29 Apr 2024 16:55:44 GMT\n",
      "Connection: close\n",
      "Server: NIA API Server\n",
      "\n",
      "\n",
      "{\n",
      "    \"items\": [\n",
      "        {\n",
      "            \"accDefRate\": \"1.457668392\",\n",
      "            \"accExamCnt\": \"9834348\",\n",
      "            \"accExamCompCnt\": \"9705431\",\n",
      "            \"careCnt\": \"7447\",\n",
      "            \"dPntCnt\": \"132061\",\n",
      "            \"gPntCnt\": \"1965\",\n",
      "            \"hPntCnt\": \"141473\",\n",
      "            \"resutlNegCnt\": \"9563958\",\n",
      "            \"statusDt\": \"20210602\",\n",
      "            \"statusTime\": \"00:00\",\n",
      "            \"uPntCnt\": \"128917\"\n",
      "        }\n",
      "    ],\n",
      "    \"numOfRows\": \"500\",\n",
      "    \"pageNo\": \"1\",\n",
      "    \"resultCode\": \"00\",\n",
      "    \"resultMsg\": \"NORMAL SERVICE\",\n",
      "    \"totalCount\": 1\n",
      "}\n",
      "----------------------------------------------------------------------\n"
     ]
    }
   ],
   "execution_count": 217
  },
  {
   "cell_type": "code",
   "source": [],
   "metadata": {
    "id": "RVeY328bjXRr"
   },
   "id": "RVeY328bjXRr",
   "outputs": [],
   "execution_count": null
  }
 ],
 "metadata": {
  "kernelspec": {
   "display_name": "Python 3",
   "language": "python",
   "name": "python3"
  },
  "language_info": {
   "codemirror_mode": {
    "name": "ipython",
    "version": 2
   },
   "file_extension": ".py",
   "mimetype": "text/x-python",
   "name": "python",
   "nbconvert_exporter": "python",
   "pygments_lexer": "ipython2",
   "version": "2.7.6"
  },
  "colab": {
   "provenance": []
  }
 },
 "nbformat": 4,
 "nbformat_minor": 5
}
