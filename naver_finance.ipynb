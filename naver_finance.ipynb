{
 "cells": [
  {
   "cell_type": "code",
   "id": "initial_id",
   "metadata": {
    "collapsed": true,
    "ExecuteTime": {
     "end_time": "2024-05-06T12:31:27.390425Z",
     "start_time": "2024-05-06T12:31:27.387450Z"
    }
   },
   "source": [
    "import requests\n",
    "from bs4 import BeautifulSoup\n",
    "import pandas as pd\n",
    "import datetime"
   ],
   "outputs": [],
   "execution_count": 8
  },
  {
   "metadata": {
    "ExecuteTime": {
     "end_time": "2024-05-06T12:31:28.270027Z",
     "start_time": "2024-05-06T12:31:28.266973Z"
    }
   },
   "cell_type": "code",
   "source": [
    "def get_top100(top100_url, top100_name):\n",
    "  url = 'https://finance.naver.com/sise/sise_quant.nhn'\n",
    "  result = requests.get(url)\n",
    "  html = BeautifulSoup(result.content.decode('euc-kr', 'replace'), 'html.parser')\n",
    "  top_100 = html.find_all('a', {'class': 'tltle'})\n",
    "  \n",
    "  for i in range(100):\n",
    "    url = 'http://finance.naver.com' + top_100[i]['href']\n",
    "    # print(url)\n",
    "    top100_url.append(url)\n",
    "    company_name = top_100[i].string\n",
    "    # print(company_name)\n",
    "    top100_name.append(company_name)\n",
    "  return (top100_url, top100_name)\n"
   ],
   "id": "f13679197bd486dd",
   "outputs": [],
   "execution_count": 9
  },
  {
   "metadata": {
    "ExecuteTime": {
     "end_time": "2024-05-06T12:35:40.026896Z",
     "start_time": "2024-05-06T12:35:40.023327Z"
    }
   },
   "cell_type": "code",
   "source": [
    "def main():\n",
    "  top100_url = []\n",
    "  top100_name = []\n",
    "  print('--------- 크롤링을 시작합니다. --------- \\n')\n",
    "  top100_url, top100_name = get_top100(top100_url, top100_name)\n",
    "  \n",
    "  top100_tbl = pd.DataFrame(top100_name)\n",
    "  top100_tbl.to_csv('./docs/finance/top100_tbl.csv', index=True, encoding='utf-8')\n",
    "  print(f'{datetime.datetime.now()}기준 네이버 금융 거래 상위 100 기업 목록\\n')\n",
    "  print(top100_name, \"\\n\") \n",
    "  print('--------- 크롤링 완료 ---------')"
   ],
   "id": "80d4c5ae5036f340",
   "outputs": [],
   "execution_count": 24
  },
  {
   "metadata": {
    "ExecuteTime": {
     "end_time": "2024-05-06T12:35:40.535843Z",
     "start_time": "2024-05-06T12:35:40.320463Z"
    }
   },
   "cell_type": "code",
   "source": [
    "if __name__ == '__main__':\n",
    "  main()"
   ],
   "id": "c7f9323da95b4304",
   "outputs": [
    {
     "name": "stdout",
     "output_type": "stream",
     "text": [
      "--------- 크롤링을 시작합니다. --------- \n",
      "\n",
      "2024-05-06 21:35:40.534594기준 네이버 금융 거래 상위 100 기업 목록\n",
      "\n",
      "['KODEX 200선물인버스2X', '대원전선', 'KODEX 코스닥150레버리지', 'KODEX 코스닥150선물인버스', 'KODEX 인버스', 'KODEX 레버리지', '삼성 인버스 2X WTI원유 선물 ETN', '신한 인버스 2X WTI원유 선물 ETN(H)', '비에이치', '삼성전자', '한국석유', '조일알미늄', '신풍', '아센디오', '비케이탑스', '흥아해운', 'KODEX 코스닥150', '한국ANKOR유전', 'KIB플러그에너지', '계양전기', '대한전선', '삼성중공업', '한온시스템', '모나리자', '일진다이아', 'KODEX 200', '삼성 인버스 2X 코스닥150 선물 ETN', 'QV 블룸버그 2X 천연가스 선물 ETN(H)', '에이프로젠', '금호타이어', '대양금속', '두산에너빌리티', '삼부토건', '티웨이항공', 'TIGER 미국S&P500', 'TIGER 차이나항셍테크', 'KODEX 2차전지산업레버리지', '삼성 레버리지 천연가스 선물 ETN C', 'SK하이닉스', 'NAVER', '삼화전기', '한화솔루션', 'KODEX AI반도체핵심장비', 'TIGER Fn반도체TOP10', '한화시스템', '기아', 'TIGER 200선물인버스2X', 'KODEX 차이나H레버리지(H)', 'HMM', 'TIGER 차이나전기차SOLACTIVE', '에어부산', 'TIGER 미국필라델피아반도체나스닥', '이구산업', '이수페타시스', '한컴라이프케어', '한화투자증권', '대원전선우', '일진전기', 'ACE 미국30년국채액티브(H)', '광명전기', '후성', '카카오', 'TIGER 화장품', 'TIGER AI반도체핵심공정', '디아이', 'KODEX 미국달러선물인버스2X', '대한해운', 'KODEX KOFR금리액티브(합성)', '제주은행', '제이준코스메틱', '한화생명', '현대로템', '한화엔진', 'SK이터닉스', '코오롱모빌리티그룹', 'KODEX 미국S&P500TR', '하이트론', '핸즈코퍼레이션', '이엔플러스', '한화갤러리아', '삼화전자', 'BNK금융지주', '대창', 'STX', 'LG디스플레이', 'KODEX 미국S&P500(H)', 'TIGER 200', '팬오션', '한화오션', '알루코', 'KOSEF 200', '풍산', '일진홀딩스', '한미반도체', 'KB금융', '삼성 레버리지 WTI원유 선물 ETN', 'TIGER 미국배당다우존스', '신한 레버리지 WTI원유 선물 ETN(H)', 'QV 인버스 레버리지 WTI원유 선물 ETN(H)', '넥센타이어'] \n",
      "\n",
      "--------- 크롤링 완료 ---------\n"
     ]
    }
   ],
   "execution_count": 25
  },
  {
   "metadata": {},
   "cell_type": "code",
   "outputs": [],
   "execution_count": null,
   "source": "",
   "id": "d5bc2cd705dfde63"
  }
 ],
 "metadata": {
  "kernelspec": {
   "display_name": "Python 3",
   "language": "python",
   "name": "python3"
  },
  "language_info": {
   "codemirror_mode": {
    "name": "ipython",
    "version": 2
   },
   "file_extension": ".py",
   "mimetype": "text/x-python",
   "name": "python",
   "nbconvert_exporter": "python",
   "pygments_lexer": "ipython2",
   "version": "2.7.6"
  }
 },
 "nbformat": 4,
 "nbformat_minor": 5
}
