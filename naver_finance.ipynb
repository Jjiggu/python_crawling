{
 "cells": [
  {
   "cell_type": "code",
   "id": "initial_id",
   "metadata": {
    "collapsed": true,
    "ExecuteTime": {
     "end_time": "2024-05-01T05:33:27.836544Z",
     "start_time": "2024-05-01T05:33:26.979709Z"
    }
   },
   "source": [
    "import requests\n",
    "from bs4 import BeautifulSoup\n",
    "import pandas as pd"
   ],
   "outputs": [],
   "execution_count": 5
  },
  {
   "metadata": {
    "ExecuteTime": {
     "end_time": "2024-05-01T05:24:22.894564Z",
     "start_time": "2024-05-01T05:24:22.885928Z"
    }
   },
   "cell_type": "code",
   "source": [
    "def get_top100(top100_url, top100_name):\n",
    "  url = 'https://finance.naver.com/sise/sise_quant.nhn'\n",
    "  result = requests.get(url)\n",
    "  html = BeautifulSoup(result.content.decode('euc-kr', 'replace'), 'html.parser')\n",
    "  top100 = html.find_all('a', {'class': 'tltle'})\n",
    "  for i in range(100):\n",
    "    url = 'http://finance.naver.com' + top100[i]['href']\n",
    "    # print(url)\n",
    "    top100_url.append(url)\n",
    "    company_name = top100[i].string\n",
    "    # print(company_name)\n",
    "    top100_name.append(company_name)\n",
    "  return (top100_url, top100_name)\n"
   ],
   "id": "f13679197bd486dd",
   "outputs": [],
   "execution_count": 2
  },
  {
   "metadata": {
    "ExecuteTime": {
     "end_time": "2024-05-01T05:35:43.515592Z",
     "start_time": "2024-05-01T05:35:43.509047Z"
    }
   },
   "cell_type": "code",
   "source": [
    "def main():\n",
    "  top100_url = []\n",
    "  top100_name = []\n",
    "  top100_url, top100_name = get_top100(top100_url, top100_name)\n",
    "  \n",
    "  top100_tbl = pd.DataFrame(top100_name)\n",
    "  top100_tbl.to_csv('./docs/finance/top100_tbl.csv', index=True, encoding='utf-8')\n",
    "  print('현재 네이버 금융 거래 상위 100 기업 목록')\n",
    "  print(top100_name)\n",
    "  print()"
   ],
   "id": "80d4c5ae5036f340",
   "outputs": [],
   "execution_count": 14
  },
  {
   "metadata": {
    "ExecuteTime": {
     "end_time": "2024-05-01T05:35:44.390979Z",
     "start_time": "2024-05-01T05:35:43.905892Z"
    }
   },
   "cell_type": "code",
   "source": [
    "if __name__ == '__main__':\n",
    "  main()"
   ],
   "id": "c7f9323da95b4304",
   "outputs": [
    {
     "name": "stdout",
     "output_type": "stream",
     "text": [
      "현재 네이버 금융 거래 상위 100 기업 목록\n",
      "['KODEX 200선물인버스2X', '대원전선', '삼부토건', 'KODEX 코스닥150선물인버스', 'KODEX 인버스', 'KODEX 레버리지', 'LS에코에너지', '삼성전자', 'KODEX 코스닥150레버리지', '에이프로젠', '조일알미늄', '비케이탑스', '대한전선', '삼성중공업', '이구산업', '삼성 인버스 2X WTI원유 선물 ETN', '신한 인버스 2X WTI원유 선물 ETN(H)', 'KR모터스', '이수페타시스', '삼화전자', '흥아해운', 'KODEX 코스닥150', '삼성 인버스 2X 코스닥150 선물 ETN', '이엔플러스', '대원전선우', '삼영전자', '대창', 'QV 블룸버그 2X 천연가스 선물 ETN(H)', '더존비즈온', '두산에너빌리티', '한화시스템', 'SK하이닉스', '토니모리', '상신브레이크', '고려제강', 'HD현대인프라코어', 'LS네트웍스', 'TIGER 화장품', '삼성 레버리지 천연가스 선물 ETN C', '삼화전기', 'KODEX 2차전지산업레버리지', '금호타이어', '현대로템', '광명전기', 'ACE 테슬라밸류체인액티브', 'KODEX 200', '일진전기', 'TIGER 차이나전기차SOLACTIVE', 'TIGER 200선물인버스2X', '신한지주', 'KEC', 'GS건설', '우리금융지주', 'KODEX AI반도체핵심장비', '팬오션', '한국ANKOR유전', 'HL만도', 'KIB플러그에너지', 'KB금융', '제주은행', '한국석유', '한화생명', '신성이엔지', '아센디오', '한화엔진', '성안머티리얼스', '알루코', '남선알미늄', 'TIGER Fn반도체TOP10', '대한해운', '한화오션', '한국전력', 'TIGER 코스닥150선물인버스', '기업은행', 'BNK금융지주', 'TIGER AI반도체핵심공정', '한국화장품', 'ARIRANG K방산Fn', 'HMM', '한화솔루션', 'TIGER 미국S&P500', 'KODEX 삼성그룹', 'TIGER 200', '대우건설', '삼성전자우', '롯데손해보험', '기아', '셀트리온', '대교우B', '한화에어로스페이스', '디아이씨', '하나금융지주', '가온전선', 'KODEX 미국S&P500TR', 'ACE 미국30년국채액티브(H)', '현대오토에버', '한미반도체', '카카오', 'SK이터닉스', '디아이']\n",
      "\n"
     ]
    }
   ],
   "execution_count": 15
  },
  {
   "metadata": {},
   "cell_type": "code",
   "outputs": [],
   "execution_count": null,
   "source": "",
   "id": "d5bc2cd705dfde63"
  }
 ],
 "metadata": {
  "kernelspec": {
   "display_name": "Python 3",
   "language": "python",
   "name": "python3"
  },
  "language_info": {
   "codemirror_mode": {
    "name": "ipython",
    "version": 2
   },
   "file_extension": ".py",
   "mimetype": "text/x-python",
   "name": "python",
   "nbconvert_exporter": "python",
   "pygments_lexer": "ipython2",
   "version": "2.7.6"
  }
 },
 "nbformat": 4,
 "nbformat_minor": 5
}
