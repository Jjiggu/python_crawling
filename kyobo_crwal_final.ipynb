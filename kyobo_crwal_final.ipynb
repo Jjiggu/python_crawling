{
 "cells": [
  {
   "cell_type": "code",
   "id": "initial_id",
   "metadata": {
    "collapsed": true,
    "ExecuteTime": {
     "end_time": "2024-05-09T10:17:14.525622Z",
     "start_time": "2024-05-09T10:17:14.017110Z"
    }
   },
   "source": [
    "# 필요한 라이브러리 import\n",
    "from selenium import webdriver\n",
    "from webdriver_manager.chrome import ChromeDriverManager\n",
    "from selenium.webdriver.chrome.service import Service\n",
    "from bs4 import BeautifulSoup as bs\n",
    "import pandas as pd\n",
    "import time"
   ],
   "outputs": [],
   "execution_count": 1
  },
  {
   "metadata": {
    "ExecuteTime": {
     "end_time": "2024-05-09T10:45:30.885299Z",
     "start_time": "2024-05-09T10:45:30.877450Z"
    }
   },
   "cell_type": "code",
   "source": [
    "title_list = []\n",
    "author_list = []\n",
    "company_list = []\n",
    "date_list = []\n",
    "\n",
    "#[CODE 0]\n",
    "def kyobo_crwal(result):\n",
    "    for page in range(1, 50): #2024.05.09일 기준, 온라인 베스트셀러 전체 항목 49페이지까지 존재\n",
    "        try:\n",
    "            kyobo_url = 'https://product.kyobobook.co.kr/bestseller/online?period=001&dsplDvsnCode=000&page=%d' %(page)\n",
    "            # 셀레니움을 사용하기 위한 크롬 웹드라이버\n",
    "            wd = webdriver.Chrome(service=Service(ChromeDriverManager().install()))\n",
    "            wd.get(kyobo_url)\n",
    "            # 웹페이지 연결할 동안 5초 대기\n",
    "            time.sleep(5)\n",
    "            \n",
    "            html = wd.page_source\n",
    "            soupKY = bs(html, 'html.parser')\n",
    "            \n",
    "            # 책 제목 \n",
    "            book_title = soupKY.select(\n",
    "    'div.wrapper > main > section.contents_wrap.aside > div > section > div.tab_wrap.type_line.justify.ui-tabs.ui-corner-all.ui-widget.ui-widget-content > div.tab_wrap.type_tag.type_fold > div.tab_content > div.view_type_list.switch_prod_wrap > ol > li > div.prod_area.horizontal > div.prod_info_box > div.auto_overflow_wrap.prod_name_group > div > div > a')\n",
    "            # 책 저자\n",
    "            book_author = soupKY.select(\n",
    "    'div.wrapper > main > section.contents_wrap.aside > div > section > div.tab_wrap.type_line.justify.ui-tabs.ui-corner-all.ui-widget.ui-widget-content > div.tab_wrap.type_tag.type_fold > div.tab_content > div.view_type_list.switch_prod_wrap > ol > li > div.prod_area.horizontal > div.prod_info_box > span.prod_author')\n",
    "            \n",
    "    \n",
    "            for title, author in zip(book_title, book_author):\n",
    "                # \\n 및 공백 제거 후 데이터 저장\n",
    "                title_list.append(title.get_text().replace(\"//n\", \" \").strip())\n",
    "                \n",
    "                # 저자, 출판사, 출판 일자 값이 null인 경우가 존재하기 때문에 예외 처리를 통해 값을 저장한다.\n",
    "                try:\n",
    "                    author_list.append(author.get_text().split(\"·\")[0]) # 저자\n",
    "                    company_list.append(author.get_text().split(\"·\")[1]) # 출판사     \n",
    "                    date_list.append(author.get_text().split(\"·\")[2]) # 출판 일자\n",
    "                \n",
    "                # 비어있는 경우(IndexError 발생 시) 출판사와 출판 일자도 null값 저장\n",
    "                except IndexError: \n",
    "                    company_list.append(author.get_text().split(\"·\")[0])\n",
    "                    date_list.append(author.get_text().split(\"·\")[0])\n",
    "                    pass\n",
    "        except:\n",
    "            pass\n",
    "                \n",
    "    # 항목별 저장한 값을 result에 병합\n",
    "    for title_result, author_result, company_result, date_result in zip(title_list, author_list, company_list, date_list):\n",
    "        result.append([title_result] + [author_result] + [company_result] + [date_result])\n",
    "        print(title_result)"
   ],
   "id": "148e692584d019b7",
   "outputs": [],
   "execution_count": 18
  },
  {
   "metadata": {
    "ExecuteTime": {
     "end_time": "2024-05-09T10:45:21.955073Z",
     "start_time": "2024-05-09T10:45:21.950404Z"
    }
   },
   "cell_type": "code",
   "source": [
    "def main():\n",
    "    result = []\n",
    "    \n",
    "    print(\"------------------ 교보문고 온라인 베스트셀러 정보를 수집합니다. ------------------ \\n\")\n",
    "    \n",
    "    kyobo_crwal(result) # [CODE 0]\n",
    "    \n",
    "    # DataFrame으로 전환 후 columns값 지정\n",
    "    kyobo_tbl = pd.DataFrame(result, columns=('제목', '저자', '출판사', '출판일자'))\n",
    "    # csv 파일로 저장\n",
    "    kyobo_tbl.to_csv('/Users/hoon/Desktop/빅데이터분석개론실습/실습/docs/kyobo/김지훈-201835641.csv',encoding='cp949', mode='w', index=True)\n",
    "    \n",
    "    print(\"\\n------------------ 베스트셀러 정보 수집이 완료되었습니다. ------------------\")"
   ],
   "id": "9080ccc85b89eb68",
   "outputs": [],
   "execution_count": 17
  },
  {
   "metadata": {
    "ExecuteTime": {
     "end_time": "2024-05-09T10:35:44.736307Z",
     "start_time": "2024-05-09T10:35:28.381271Z"
    }
   },
   "cell_type": "code",
   "source": [
    "if __name__ == '__main__':\n",
    "  main()"
   ],
   "id": "41b77ea80ea8e3ec",
   "outputs": [
    {
     "name": "stdout",
     "output_type": "stream",
     "text": [
      "------------------ 교보문고 온라인 베스트셀러 정보를 수집합니다. ------------------ \n",
      "\n",
      "예약판매 변방에서 중심으로\n",
      "예약판매 어떻게 살 것인가\n",
      "불변의 법칙\n",
      "나를 소모하지 않는 현명한 태도에 관하여\n",
      "무엇이 나를 행복하게 만드는가\n",
      "빨모쌤의 라이브 영어회화\n",
      "파란 마음 북커버\n",
      "내가 천 개의 인생에서 배운 것들\n",
      "마흔에 읽는 쇼펜하우어\n",
      "예약판매 나 혼자만 레벨업 11(만화)\n",
      "예약판매 나 혼자만 레벨업 11(만화)(한정판)\n",
      "흔한남매 16\n",
      "당신의 인생에서 꼭 한 번은 맹자를 만나라\n",
      "모순\n",
      "돈의 심리학(30만 부 기념 스페셜 에디션)\n",
      "진짜 나를 찾아라\n",
      "바오패밀리 컬러링북\n",
      "나는 읽고 쓰고 버린다\n",
      "하루 한 장 나의 어휘력을 위한 필사 노트\n",
      "ETS 토익 정기시험 기출문제집 1000 Vol 4 LC(리스닝)\n",
      "예약판매 나만의 디저트 레시피를 구상하는 방법 + 디저트 페어링 북 세트\n",
      "일류의 조건\n",
      "꽃길이 따로 있나, 내 삶이 꽃인 것을\n",
      "나의 돈키호테\n",
      "ETS 토익 정기시험 기출문제집 1000 Vol 4 RC(리딩)\n",
      "해커스 토익 기출 VOCA(보카)\n",
      "나는 메트로폴리탄 미술관의 경비원입니다(작품 가이드 별책부록 포함)\n",
      "삶이 흔들릴 때 뇌과학을 읽습니다\n",
      "The Scent of PAGE : 룸스프레이 60ml\n",
      "하루 만에 수익 내는 실전 주식투자\n",
      "예약판매 세이노의 가르침\n",
      "예약판매 슬기롭게 써먹는 화학 치트키\n",
      "읽으면서 바로 써먹는 어린이 감정 표현\n",
      "찌그러져도 동그라미입니다\n",
      "예약판매 전지적 푸바오 시점: 아이러푸 에디션\n",
      "스페이스X의 비밀\n",
      "2024 큰별쌤 최태성의 별별한국사 기출 500제 한국사능력검정시험 심화(1,2,3급)\n",
      "4~7세 보고 만지는 수학은 이렇게 가르칩니다\n",
      "The Scent of PAGE : 디퓨저 100ml\n",
      "삼체 세트\n",
      "\n",
      "------------------ 베스트셀러 정보 수집이 완료되었습니다. ------------------\n"
     ]
    }
   ],
   "execution_count": 16
  },
  {
   "metadata": {},
   "cell_type": "code",
   "source": "",
   "id": "49f0a7d8ac967e71",
   "outputs": [],
   "execution_count": null
  }
 ],
 "metadata": {
  "kernelspec": {
   "display_name": "Python 3",
   "language": "python",
   "name": "python3"
  },
  "language_info": {
   "codemirror_mode": {
    "name": "ipython",
    "version": 2
   },
   "file_extension": ".py",
   "mimetype": "text/x-python",
   "name": "python",
   "nbconvert_exporter": "python",
   "pygments_lexer": "ipython2",
   "version": "2.7.6"
  }
 },
 "nbformat": 4,
 "nbformat_minor": 5
}
